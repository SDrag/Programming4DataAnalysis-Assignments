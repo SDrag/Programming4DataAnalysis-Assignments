{
 "cells": [
  {
   "cell_type": "markdown",
   "metadata": {},
   "source": [
    "# Programming for Data Analysis - ASSIGNMENT\n",
    "\n",
    "\n",
    "## Python numpy.random package"
   ]
  },
  {
   "cell_type": "markdown",
   "metadata": {},
   "source": [
    "### 1. Overall purpose of the package\n",
    "\n",
    "NumPy (Numerical Python) is a Python library that is specialsied and optimised to work very fast and efficient with multidimensional array objects. It is a fundamental library for scientific computing in Python providing high-performance multidimensional array object, and tools for working with them. It relies on packages implemented in another language (e.g. C) to perform efficient and fast computations.\n",
    "\n",
    "**numpy.random** package is used for efficiently generating whole arrays of sample values from many kinds of probability distributions."
   ]
  },
  {
   "cell_type": "markdown",
   "metadata": {},
   "source": [
    "### 2. “Simple random data” and “Permutations” functions\n",
    "\n",
    "#### Simple random data\n",
    "\n",
    "A set of several functions that return a various types of random numbers, depending of the parameters passed.\n",
    "<br>Few examples:\n",
    "\n",
    "- **rand(_d0, d1, …, dn_)**\tReturns random values in a given shape. It creatse an array of the given shape and populates it with random samples from a uniform distribution over the interval [0, 1)."
   ]
  },
  {
   "cell_type": "code",
   "execution_count": 40,
   "metadata": {},
   "outputs": [
    {
     "data": {
      "text/plain": [
       "array([[[0.17493968, 0.13318884, 0.84398728, 0.87020086],\n",
       "        [0.54102539, 0.99982111, 0.41662158, 0.05290329],\n",
       "        [0.89633897, 0.62046772, 0.80156562, 0.5734173 ]],\n",
       "\n",
       "       [[0.37217646, 0.88831036, 0.27965765, 0.49810204],\n",
       "        [0.95228929, 0.21673992, 0.77418445, 0.50283857],\n",
       "        [0.29091798, 0.34664679, 0.48360184, 0.31533745]]])"
      ]
     },
     "execution_count": 40,
     "metadata": {},
     "output_type": "execute_result"
    }
   ],
   "source": [
    "# Importing packages needed for this notebook\n",
    "import numpy as np\n",
    "import matplotlib.pyplot as plt\n",
    "import seaborn as sns\n",
    "\n",
    "# Generating 2 sets of 3 sets of 4 random values between 0 and 1\n",
    "x = np.random.rand(2,3,4)\n",
    "x"
   ]
  },
  {
   "cell_type": "code",
   "execution_count": 20,
   "metadata": {},
   "outputs": [
    {
     "data": {
      "image/png": "[encoded data removed]",
      "text/plain": [
       "<matplotlib.figure.Figure at 0x13795fe6668>"
      ]
     },
     "metadata": {},
     "output_type": "display_data"
    }
   ],
   "source": [
    "# Plotting distribution of 10k random numbers\n",
    "x = np.random.rand(10000)\n",
    "plt.title(\"Plotting distribution of 10k random numbers\")\n",
    "plt.hist(x)\n",
    "plt.show()"
   ]
  },
  {
   "cell_type": "markdown",
   "metadata": {},
   "source": [
    "***\n",
    "- **randn(_d0, d1, …, dn_)**\tReturns a sample(s) from the “standard normal” distribution. If positive, int_like or int-convertible arguments are provided, randn generates an array of shape (d0, d1, ..., dn), filled with random floats sampled from a univariate “normal” (Gaussian) distribution of mean 0 and variance 1 (if any of the d_i are floats, they are first converted to integers by truncation). A single float randomly sampled from the distribution is returned if no argument is provided."
   ]
  },
  {
   "cell_type": "code",
   "execution_count": 26,
   "metadata": {},
   "outputs": [
    {
     "data": {
      "text/plain": [
       "-1.3374446130866584"
      ]
     },
     "execution_count": 26,
     "metadata": {},
     "output_type": "execute_result"
    }
   ],
   "source": [
    "# Generating a single Python float\n",
    "np.random.randn()"
   ]
  },
  {
   "cell_type": "code",
   "execution_count": 27,
   "metadata": {},
   "outputs": [
    {
     "data": {
      "text/plain": [
       "array([[1.57851541, 5.14072117],\n",
       "       [2.17244298, 3.32342049]])"
      ]
     },
     "execution_count": 27,
     "metadata": {},
     "output_type": "execute_result"
    }
   ],
   "source": [
    "# Generating 2x2 random samples from N(mu,sigma**2)\n",
    "sigma = 2\n",
    "mu = 4\n",
    "sigma * np.random.randn(2, 2) + mu"
   ]
  },
  {
   "cell_type": "markdown",
   "metadata": {},
   "source": [
    "***\n",
    "- **random\\_sample([_size_])**\tReturns random floats in the half-open interval [0.0, 1.0). Results are from the “continuous uniform” distribution over the stated interval."
   ]
  },
  {
   "cell_type": "code",
   "execution_count": 8,
   "metadata": {},
   "outputs": [
    {
     "data": {
      "text/plain": [
       "array([[[0.29105162, 0.42524967, 0.46514163, 0.1456869 ],\n",
       "        [0.81083346, 0.71796305, 0.86740461, 0.09158114]],\n",
       "\n",
       "       [[0.64367545, 0.0631807 , 0.79439918, 0.37749852],\n",
       "        [0.61897001, 0.73609359, 0.23150347, 0.70019214]],\n",
       "\n",
       "       [[0.11148499, 0.22464805, 0.51943895, 0.91303778],\n",
       "        [0.37620545, 0.36097736, 0.4421671 , 0.30068578]]])"
      ]
     },
     "execution_count": 8,
     "metadata": {},
     "output_type": "execute_result"
    }
   ],
   "source": [
    "np.random.random_sample((3, 2, 4))"
   ]
  },
  {
   "cell_type": "markdown",
   "metadata": {},
   "source": [
    "***\n",
    "#### Permutations\n",
    "\n",
    "Contains two functions that \"randomise\" given dataset:\n",
    "\n",
    "- **shuffle(_arr_)**\tModifies a sequence in-place by shuffling its contents. This function only shuffles the array along the first axis of a multi-dimensional array. The order of sub-arrays is changed but their contents remains the same."
   ]
  },
  {
   "cell_type": "code",
   "execution_count": 32,
   "metadata": {},
   "outputs": [
    {
     "name": "stdout",
     "output_type": "stream",
     "text": [
      "[ 0  1  2  3  4  5  6  7  8  9 10]\n",
      "[ 9  1  3  2  8  4  5 10  7  0  6]\n"
     ]
    }
   ],
   "source": [
    "# Print integers between 0 and 11\n",
    "arr = np.arange(11)\n",
    "print(arr)\n",
    "# Shuffle them now and print\n",
    "np.random.shuffle(arr)\n",
    "print(arr)"
   ]
  },
  {
   "cell_type": "markdown",
   "metadata": {},
   "source": [
    "***\n",
    "- **permutation(arr)**\tRandomly permutes a sequence, or return a permuted range. If x is a multi-dimensional array, it is only shuffled along its first index."
   ]
  },
  {
   "cell_type": "code",
   "execution_count": 34,
   "metadata": {},
   "outputs": [
    {
     "name": "stdout",
     "output_type": "stream",
     "text": [
      "[ 0  1  4  3  7  5 10  8  9  6  2]\n"
     ]
    }
   ],
   "source": [
    "# Printing a permutation of range(0,11)\n",
    "print(np.random.permutation(range(0,11)))"
   ]
  },
  {
   "cell_type": "code",
   "execution_count": 38,
   "metadata": {},
   "outputs": [
    {
     "data": {
      "text/plain": [
       "array([[ 4,  5,  6,  7],\n",
       "       [ 0,  1,  2,  3],\n",
       "       [ 8,  9, 10, 11],\n",
       "       [12, 13, 14, 15]])"
      ]
     },
     "execution_count": 38,
     "metadata": {},
     "output_type": "execute_result"
    }
   ],
   "source": [
    "# Permuting an ordered 4x4 multidimensional array\n",
    "arr = np.arange(16).reshape((4, 4))\n",
    "np.random.permutation(arr)"
   ]
  },
  {
   "cell_type": "markdown",
   "metadata": {},
   "source": [
    "### 3. Numpy \"Distributions\" functions\n",
    "\n",
    "Probability distributions are fundamental to statistics, just like data structures are to computer science. There are hundreds of probability distributions, but only a handfull of them turn up consistently in practice. Probability distributions describe what we think the probability of each outcome is."
   ]
  },
  {
   "cell_type": "markdown",
   "metadata": {},
   "source": [
    "- **geometric(p[, size])** Draws samples from the geometric distribution. Bernoulli trials are experiments with one of two outcomes: success or failure (an example of such an experiment is flipping a coin). The geometric distribution models the number of trials that must be run in order to achieve success. It is therefore supported on the positive integers, k = 1, 2, ... \n",
    "The probability mass function of the geometric distribution is\n",
    "$ f(k) = (1 - p)^{k - 1} p $, \n",
    "where p is the probability of success of an individual trial."
   ]
  },
  {
   "cell_type": "code",
   "execution_count": 43,
   "metadata": {},
   "outputs": [
    {
     "data": {
      "image/png": "[encoded data removed]",
      "text/plain": [
       "<matplotlib.figure.Figure at 0x13797f4c390>"
      ]
     },
     "metadata": {},
     "output_type": "display_data"
    },
    {
     "data": {
      "text/plain": [
       "0.5039"
      ]
     },
     "execution_count": 43,
     "metadata": {},
     "output_type": "execute_result"
    }
   ],
   "source": [
    "# Draw ten thousand values from the geometric distribution, with the probability of an individual success equal to 0.5\n",
    "z = np.random.geometric(p=0.5, size=10000)\n",
    "sns.distplot(z)\n",
    "plt.show()\n",
    "\n",
    "# Number of trials succeeded after a single run\n",
    "(z == 1).sum() / 10000"
   ]
  },
  {
   "cell_type": "markdown",
   "metadata": {},
   "source": [
    "***\n",
    "- **logseries(p[, size])**\tDraws samples from a logarithmic series distribution. Samples are drawn from a log series distribution with specified shape parameter, 0 < p < 1.\n",
    "<br>\n",
    "The probability density for the Log Series distribution is\n",
    "$ P(k) = \\frac{-p^k}{k \\ln(1-p)} $,\n",
    "where p = probability.\n",
    "The log series distribution is frequently used to represent species richness and occurrence, first proposed by Fisher, Corbet, and Williams in 1943. It may also be used to model the numbers of occupants seen in cars."
   ]
  },
  {
   "cell_type": "code",
   "execution_count": 48,
   "metadata": {},
   "outputs": [
    {
     "data": {
      "image/png": "[encoded data removed]",
      "text/plain": [
       "<matplotlib.figure.Figure at 0x1379885e6d8>"
      ]
     },
     "metadata": {},
     "output_type": "display_data"
    }
   ],
   "source": [
    "# Draw samples from the distribution\n",
    "a = .6\n",
    "s = np.random.logseries(a, 10000)\n",
    "count, bins, ignored = plt.hist(s)\n",
    "\n",
    "# Plot against distribution\n",
    "def logseries(k, p):\n",
    "    return -p**k/(k*np.log(1-p))\n",
    "\n",
    "plt.plot(bins, logseries(bins, a)*count.max() / logseries(bins, a).max(), 'r')\n",
    "plt.show()"
   ]
  },
  {
   "cell_type": "markdown",
   "metadata": {},
   "source": [
    "***\n",
    "- **normal([loc, scale, size])** Draws random samples from a normal (Gaussian) distribution. The probability density function of the normal distribution, first derived by De Moivre and 200 years later by both Gauss and Laplace independently, is often called the Bell curve because of its characteristic shape.\n",
    "The normal distributions occurs often in nature. For example, it describes the commonly occurring distribution of samples influenced by a large number of tiny, random disturbances, each with its own unique distribution.\n",
    "<br>\n",
    "The probability density for the Gaussian distribution is\n",
    "$ p(x) = \\frac{1}{\\sqrt{ 2 \\pi \\sigma^2 }}\n",
    "e^{ - \\frac{ (x - \\mu)^2 } {2 \\sigma^2} } $,\n",
    "where $ \\mu $ is the mean and $ \\sigma $ the standard deviation. The square of the standard deviation, $ \\sigma^2 $, is called the variance.\n",
    "The function has its peak at the mean, and its “spread” increases with the standard deviation."
   ]
  },
  {
   "cell_type": "code",
   "execution_count": 50,
   "metadata": {},
   "outputs": [
    {
     "data": {
      "image/png": "[encoded data removed]",
      "text/plain": [
       "<matplotlib.figure.Figure at 0x13798a22828>"
      ]
     },
     "metadata": {},
     "output_type": "display_data"
    }
   ],
   "source": [
    "# Example with 2 different values of standard deviation, with the same mean and output shape\n",
    "for i in [0.1, 0.2]:\n",
    "    sns.distplot(np.random.normal(10, i, 1000))\n",
    "plt.title('Normal Distribution - example with 2 different standard deviations')\n",
    "plt.show()"
   ]
  },
  {
   "cell_type": "markdown",
   "metadata": {},
   "source": [
    "***\n",
    "- **poisson([lam, size])**\tDraw samples from a Poisson distribution. The Poisson distribution is the limit of the binomial distribution for large N.\n",
    "The Poisson distribution \n",
    "$ f(k; \\lambda)=\\frac{\\lambda^k e^{-\\lambda}}{k!} $ \n",
    "For events with an expected separation $ \\lambda $ the Poisson distribution $ f(k; \\lambda) $ describes the probability of k events occurring within the observed interval $ \\lambda $.\n",
    "The Poisson distribution is popular for modelling the number of times an event occurs in an interval of time or space."
   ]
  },
  {
   "cell_type": "code",
   "execution_count": 60,
   "metadata": {},
   "outputs": [
    {
     "data": {
      "image/png": "[encoded data removed]",
      "text/plain": [
       "<matplotlib.figure.Figure at 0x137989d2e48>"
      ]
     },
     "metadata": {},
     "output_type": "display_data"
    },
    {
     "data": {
      "image/png": "[encoded data removed]",
      "text/plain": [
       "<matplotlib.figure.Figure at 0x13798a93390>"
      ]
     },
     "metadata": {},
     "output_type": "display_data"
    }
   ],
   "source": [
    "# Draw samples from the distribution and plot histogram\n",
    "s = np.random.poisson(30, 10000)\n",
    "count, bins, ignored = plt.hist(s, 14, density=True)\n",
    "plt.show()\n",
    "\n",
    "# Draw each 100 values for lambda 10 and 50 and plot\n",
    "s = np.random.poisson(lam=(10., 50.), size=(100, 2))\n",
    "count, bins, ignored = plt.hist(s, 14, density=True)\n",
    "plt.show()"
   ]
  },
  {
   "cell_type": "markdown",
   "metadata": {},
   "source": [
    "***\n",
    "- **rayleigh([scale, size])**\tDraws samples from a Rayleigh distribution."
   ]
  },
  {
   "cell_type": "markdown",
   "metadata": {},
   "source": [
    "### 4. \"Seeds\" in generating pseudorandom numbers\n",
    "\n",
    "A random seed is a number (or vector) used to initialize a pseudorandom number generator.\n",
    "<br>\n",
    "For a seed to be used in a pseudorandom number generator, it does not need to be random. Because of the nature of number generating algorithms, so long as the original seed is ignored, the rest of the values that the algorithm generates will follow probability distribution in a pseudorandom manner."
   ]
  },
  {
   "cell_type": "markdown",
   "metadata": {},
   "source": [
    "## References\n",
    "\n",
    "[1] https://docs.scipy.org/doc/numpy/\n",
    "<br>\n",
    "[2] http://www.numpy.org/\n",
    "<br>\n",
    "[3] https://docs.scipy.org/doc/numpy-1.15.1/reference/routines.random.html#\n",
    "<br>\n",
    "[4] https://en.wikipedia.org/wiki/NumPy\n",
    "<br>\n",
    "[5] http://blog.cloudera.com/blog/2015/12/common-probability-distributions-the-data-scientists-crib-sheet/\n",
    "<br>\n",
    "[6] https://en.wikipedia.org/wiki/Normal_distribution\n",
    "<br>\n",
    "[7] https://en.wikipedia.org/wiki/Geometric_distribution\n",
    "<br>\n",
    "[8] https://en.wikipedia.org/wiki/Poisson_distribution\n",
    "<br>\n",
    "[9] https://en.wikipedia.org/wiki/Rayleigh_distribution"
   ]
  },
  {
   "cell_type": "code",
   "execution_count": null,
   "metadata": {},
   "outputs": [],
   "source": []
  }
 ],
 "metadata": {
  "kernelspec": {
   "display_name": "Python 3",
   "language": "python",
   "name": "python3"
  },
  "language_info": {
   "codemirror_mode": {
    "name": "ipython",
    "version": 3
   },
   "file_extension": ".py",
   "mimetype": "text/x-python",
   "name": "python",
   "nbconvert_exporter": "python",
   "pygments_lexer": "ipython3",
   "version": "3.6.4"
  }
 },
 "nbformat": 4,
 "nbformat_minor": 2
}
