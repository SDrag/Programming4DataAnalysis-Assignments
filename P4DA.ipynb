{
 "cells": [
  {
   "cell_type": "markdown",
   "metadata": {},
   "source": [
    "# Programming for Data Analysis - ASSIGNMENT\n",
    "\n",
    "\n",
    "## Python numpy.random package"
   ]
  },
  {
   "cell_type": "markdown",
   "metadata": {},
   "source": [
    "### 1. Overall purpose of the package\n",
    "\n",
    "NumPy (Numerical Python) is a Python library that is specialsied and optimised to work very fast and efficient with multidimensional array objects. It is a fundamental library for scientific computing in Python providing high-performance multidimensional array object, and tools for working with them. It relies on packages implemented in another language (e.g. C) to perform efficient and fast computations.\n",
    "\n",
    "**numpy.random** package is used for generating random (actually pseudorandom) data based on a certain distribution."
   ]
  },
  {
   "cell_type": "markdown",
   "metadata": {},
   "source": [
    "### 2. “Simple random data” and “Permutations” functions\n",
    "\n",
    "#### Simple random data\n",
    "\n",
    "A set of several functions that return a various types of random numbers, depending of the parameters passed.\n",
    "<br>Few examples:\n",
    "\n",
    "- **rand(_d0, d1, …, dn_)**\tReturns random values in a given shape. It creatse an array of the given shape and populates it with random samples from a uniform distribution over the interval [0, 1)."
   ]
  },
  {
   "cell_type": "code",
   "execution_count": 6,
   "metadata": {},
   "outputs": [
    {
     "data": {
      "text/plain": [
       "array([[[0.53154628, 0.18501098, 0.39878979, 0.65786153],\n",
       "        [0.05148239, 0.3797957 , 0.43649786, 0.66410911],\n",
       "        [0.29372863, 0.47389332, 0.43754765, 0.12921784]],\n",
       "\n",
       "       [[0.74876081, 0.52055811, 0.72829773, 0.59806915],\n",
       "        [0.52409015, 0.40904998, 0.22053303, 0.42823242],\n",
       "        [0.1656973 , 0.22477137, 0.92697813, 0.22335434]]])"
      ]
     },
     "execution_count": 6,
     "metadata": {},
     "output_type": "execute_result"
    }
   ],
   "source": [
    "import numpy as np\n",
    "np.random.rand(2,3,4)"
   ]
  },
  {
   "cell_type": "markdown",
   "metadata": {},
   "source": [
    "- **randn(_d0, d1, …, dn_)**\tReturns a sample(s) from the “standard normal” distribution."
   ]
  },
  {
   "cell_type": "code",
   "execution_count": 7,
   "metadata": {},
   "outputs": [
    {
     "data": {
      "text/plain": [
       "array([[ 0.06965529, -1.77719763],\n",
       "       [-0.08764564,  0.28842431]])"
      ]
     },
     "execution_count": 7,
     "metadata": {},
     "output_type": "execute_result"
    }
   ],
   "source": [
    "np.random.randn(2, 2)"
   ]
  },
  {
   "cell_type": "markdown",
   "metadata": {},
   "source": [
    "- **random\\_sample([_size_])**\tReturns random floats in the half-open interval [0.0, 1.0)"
   ]
  },
  {
   "cell_type": "code",
   "execution_count": 8,
   "metadata": {},
   "outputs": [
    {
     "data": {
      "text/plain": [
       "array([[[0.29105162, 0.42524967, 0.46514163, 0.1456869 ],\n",
       "        [0.81083346, 0.71796305, 0.86740461, 0.09158114]],\n",
       "\n",
       "       [[0.64367545, 0.0631807 , 0.79439918, 0.37749852],\n",
       "        [0.61897001, 0.73609359, 0.23150347, 0.70019214]],\n",
       "\n",
       "       [[0.11148499, 0.22464805, 0.51943895, 0.91303778],\n",
       "        [0.37620545, 0.36097736, 0.4421671 , 0.30068578]]])"
      ]
     },
     "execution_count": 8,
     "metadata": {},
     "output_type": "execute_result"
    }
   ],
   "source": [
    "np.random.random_sample((3, 2, 4))"
   ]
  },
  {
   "cell_type": "markdown",
   "metadata": {},
   "source": [
    "#### Permutations\n",
    "\n",
    "Contains two functions that \"randomise\" given dataset:\n",
    "\n",
    "- **shuffle(_arr_)**\tModifies a sequence in-place by shuffling its contents."
   ]
  },
  {
   "cell_type": "markdown",
   "metadata": {},
   "source": [
    "### 3. Numpy \"Distributions\" functions"
   ]
  },
  {
   "cell_type": "markdown",
   "metadata": {},
   "source": [
    "- **geometric(p[, size])** Draws samples from the geometric distribution."
   ]
  },
  {
   "cell_type": "markdown",
   "metadata": {},
   "source": [
    "- **logseries(p[, size])**\tDraws samples from a logarithmic series distribution."
   ]
  },
  {
   "cell_type": "markdown",
   "metadata": {},
   "source": [
    "- **normal([loc, scale, size])** Draws random samples from a normal (Gaussian) distribution."
   ]
  },
  {
   "cell_type": "markdown",
   "metadata": {},
   "source": [
    "- **poisson([lam, size])**\tDraw samples from a Poisson distribution."
   ]
  },
  {
   "cell_type": "markdown",
   "metadata": {},
   "source": [
    "- **rayleigh([scale, size])**\tDraws samples from a Rayleigh distribution."
   ]
  },
  {
   "cell_type": "markdown",
   "metadata": {},
   "source": [
    "### 4. \"Seeds\" in generating pseudorandom numbers\n",
    "\n",
    "A random seed is a number (or vector) used to initialize a pseudorandom number generator.\n",
    "<br>\n",
    "For a seed to be used in a pseudorandom number generator, it does not need to be random. Because of the nature of number generating algorithms, so long as the original seed is ignored, the rest of the values that the algorithm generates will follow probability distribution in a pseudorandom manner."
   ]
  },
  {
   "cell_type": "markdown",
   "metadata": {},
   "source": [
    "## References\n",
    "\n",
    "[1] https://docs.scipy.org/doc/numpy/\n",
    "<br>\n",
    "[2] http://www.numpy.org/\n",
    "<br>\n",
    "[3] https://docs.scipy.org/doc/numpy-1.15.1/reference/routines.random.html#\n",
    "<br>\n",
    "[4] https://en.wikipedia.org/wiki/NumPy"
   ]
  },
  {
   "cell_type": "code",
   "execution_count": null,
   "metadata": {},
   "outputs": [],
   "source": []
  }
 ],
 "metadata": {
  "kernelspec": {
   "display_name": "Python 3",
   "language": "python",
   "name": "python3"
  },
  "language_info": {
   "codemirror_mode": {
    "name": "ipython",
    "version": 3
   },
   "file_extension": ".py",
   "mimetype": "text/x-python",
   "name": "python",
   "nbconvert_exporter": "python",
   "pygments_lexer": "ipython3",
   "version": "3.6.4"
  }
 },
 "nbformat": 4,
 "nbformat_minor": 2
}
