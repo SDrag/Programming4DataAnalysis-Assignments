{
 "cells": [
  {
   "cell_type": "markdown",
   "metadata": {},
   "source": [
    "# Programming for Data Analysis - ASSIGNMENT\n",
    "\n",
    "\n",
    "## Python numpy.random package"
   ]
  },
  {
   "cell_type": "markdown",
   "metadata": {},
   "source": [
    "### 1. Overall purpose of the package\n",
    "\n",
    "NumPy (Numerical Python) is a Python library that is specialsied and optimised to work very fast and efficient with multidimensional array objects. It is a fundamental library for scientific computing in Python providing high-performance multidimensional array object, and tools for working with them. It relies on packages implemented in another language (e.g. C) to perform efficient and fast computations.\n",
    "\n",
    "**numpy.random** package is used for efficiently generating whole arrays of sample values from many kinds of probability distributions."
   ]
  },
  {
   "cell_type": "markdown",
   "metadata": {},
   "source": [
    "### 2. “Simple random data” and “Permutations” functions\n",
    "\n",
    "#### Simple random data\n",
    "\n",
    "A set of several functions that return a various types of random numbers, depending of the parameters passed.\n",
    "<br>Few examples:\n",
    "\n",
    "- **rand(_d0, d1, …, dn_)**\tReturns random values in a given shape. It creatse an array of the given shape and populates it with random samples from a uniform distribution over the interval [0, 1)."
   ]
  },
  {
   "cell_type": "code",
   "execution_count": 19,
   "metadata": {},
   "outputs": [
    {
     "data": {
      "text/plain": [
       "array([[[0.13703345, 0.14748837, 0.16907625, 0.25372154],\n",
       "        [0.94077162, 0.87005085, 0.39403039, 0.56408256],\n",
       "        [0.1263398 , 0.24137685, 0.26655196, 0.49230776]],\n",
       "\n",
       "       [[0.19829612, 0.56110606, 0.14375354, 0.3349319 ],\n",
       "        [0.5788413 , 0.90292142, 0.16776716, 0.93772175],\n",
       "        [0.65127729, 0.30343373, 0.46640834, 0.59210631]]])"
      ]
     },
     "execution_count": 19,
     "metadata": {},
     "output_type": "execute_result"
    }
   ],
   "source": [
    "import numpy as np\n",
    "import matplotlib.pyplot as plt\n",
    "\n",
    "# Generating 2 sets of 3 sets of 4 random values between 0 and 1\n",
    "x = np.random.rand(2,3,4)\n",
    "x"
   ]
  },
  {
   "cell_type": "code",
   "execution_count": 20,
   "metadata": {},
   "outputs": [
    {
     "data": {
      "image/png": "[encoded data removed]",
      "text/plain": [
       "<matplotlib.figure.Figure at 0x13795fe6668>"
      ]
     },
     "metadata": {},
     "output_type": "display_data"
    }
   ],
   "source": [
    "# Plotting distribution of 10k random numbers\n",
    "x = np.random.rand(10000)\n",
    "plt.title(\"Plotting distribution of 10k random numbers\")\n",
    "plt.hist(x)\n",
    "plt.show()"
   ]
  },
  {
   "cell_type": "markdown",
   "metadata": {},
   "source": [
    "***\n",
    "- **randn(_d0, d1, …, dn_)**\tReturns a sample(s) from the “standard normal” distribution. If positive, int_like or int-convertible arguments are provided, randn generates an array of shape (d0, d1, ..., dn), filled with random floats sampled from a univariate “normal” (Gaussian) distribution of mean 0 and variance 1 (if any of the d_i are floats, they are first converted to integers by truncation). A single float randomly sampled from the distribution is returned if no argument is provided."
   ]
  },
  {
   "cell_type": "code",
   "execution_count": 26,
   "metadata": {},
   "outputs": [
    {
     "data": {
      "text/plain": [
       "-1.3374446130866584"
      ]
     },
     "execution_count": 26,
     "metadata": {},
     "output_type": "execute_result"
    }
   ],
   "source": [
    "# Generating a single Python float\n",
    "np.random.randn()"
   ]
  },
  {
   "cell_type": "code",
   "execution_count": 27,
   "metadata": {},
   "outputs": [
    {
     "data": {
      "text/plain": [
       "array([[1.57851541, 5.14072117],\n",
       "       [2.17244298, 3.32342049]])"
      ]
     },
     "execution_count": 27,
     "metadata": {},
     "output_type": "execute_result"
    }
   ],
   "source": [
    "# Generating 2x2 random samples from N(mu,sigma**2)\n",
    "sigma = 2\n",
    "mu = 4\n",
    "sigma * np.random.randn(2, 2) + mu"
   ]
  },
  {
   "cell_type": "markdown",
   "metadata": {},
   "source": [
    "***\n",
    "- **random\\_sample([_size_])**\tReturns random floats in the half-open interval [0.0, 1.0). Results are from the “continuous uniform” distribution over the stated interval."
   ]
  },
  {
   "cell_type": "code",
   "execution_count": 8,
   "metadata": {},
   "outputs": [
    {
     "data": {
      "text/plain": [
       "array([[[0.29105162, 0.42524967, 0.46514163, 0.1456869 ],\n",
       "        [0.81083346, 0.71796305, 0.86740461, 0.09158114]],\n",
       "\n",
       "       [[0.64367545, 0.0631807 , 0.79439918, 0.37749852],\n",
       "        [0.61897001, 0.73609359, 0.23150347, 0.70019214]],\n",
       "\n",
       "       [[0.11148499, 0.22464805, 0.51943895, 0.91303778],\n",
       "        [0.37620545, 0.36097736, 0.4421671 , 0.30068578]]])"
      ]
     },
     "execution_count": 8,
     "metadata": {},
     "output_type": "execute_result"
    }
   ],
   "source": [
    "np.random.random_sample((3, 2, 4))"
   ]
  },
  {
   "cell_type": "markdown",
   "metadata": {},
   "source": [
    "***\n",
    "#### Permutations\n",
    "\n",
    "Contains two functions that \"randomise\" given dataset:\n",
    "\n",
    "- **shuffle(_arr_)**\tModifies a sequence in-place by shuffling its contents. This function only shuffles the array along the first axis of a multi-dimensional array. The order of sub-arrays is changed but their contents remains the same."
   ]
  },
  {
   "cell_type": "code",
   "execution_count": 32,
   "metadata": {},
   "outputs": [
    {
     "name": "stdout",
     "output_type": "stream",
     "text": [
      "[ 0  1  2  3  4  5  6  7  8  9 10]\n",
      "[ 9  1  3  2  8  4  5 10  7  0  6]\n"
     ]
    }
   ],
   "source": [
    "# Print integers between 0 and 11\n",
    "arr = np.arange(11)\n",
    "print(arr)\n",
    "# Shuffle them now and print\n",
    "np.random.shuffle(arr)\n",
    "print(arr)"
   ]
  },
  {
   "cell_type": "markdown",
   "metadata": {},
   "source": [
    "***\n",
    "- **permutation(arr)**\tRandomly permutes a sequence, or return a permuted range. If x is a multi-dimensional array, it is only shuffled along its first index."
   ]
  },
  {
   "cell_type": "code",
   "execution_count": 34,
   "metadata": {},
   "outputs": [
    {
     "name": "stdout",
     "output_type": "stream",
     "text": [
      "[ 0  1  4  3  7  5 10  8  9  6  2]\n"
     ]
    }
   ],
   "source": [
    "# Printing a permutation of range(0,11)\n",
    "print(np.random.permutation(range(0,11)))"
   ]
  },
  {
   "cell_type": "code",
   "execution_count": 38,
   "metadata": {},
   "outputs": [
    {
     "data": {
      "text/plain": [
       "array([[ 4,  5,  6,  7],\n",
       "       [ 0,  1,  2,  3],\n",
       "       [ 8,  9, 10, 11],\n",
       "       [12, 13, 14, 15]])"
      ]
     },
     "execution_count": 38,
     "metadata": {},
     "output_type": "execute_result"
    }
   ],
   "source": [
    "# Permuting an ordered 4x4 multidimensional array\n",
    "arr = np.arange(16).reshape((4, 4))\n",
    "np.random.permutation(arr)"
   ]
  },
  {
   "cell_type": "markdown",
   "metadata": {},
   "source": [
    "### 3. Numpy \"Distributions\" functions"
   ]
  },
  {
   "cell_type": "markdown",
   "metadata": {},
   "source": [
    "- **geometric(p[, size])** Draws samples from the geometric distribution."
   ]
  },
  {
   "cell_type": "markdown",
   "metadata": {},
   "source": [
    "- **logseries(p[, size])**\tDraws samples from a logarithmic series distribution."
   ]
  },
  {
   "cell_type": "markdown",
   "metadata": {},
   "source": [
    "- **normal([loc, scale, size])** Draws random samples from a normal (Gaussian) distribution."
   ]
  },
  {
   "cell_type": "markdown",
   "metadata": {},
   "source": [
    "- **poisson([lam, size])**\tDraw samples from a Poisson distribution."
   ]
  },
  {
   "cell_type": "markdown",
   "metadata": {},
   "source": [
    "- **rayleigh([scale, size])**\tDraws samples from a Rayleigh distribution."
   ]
  },
  {
   "cell_type": "markdown",
   "metadata": {},
   "source": [
    "### 4. \"Seeds\" in generating pseudorandom numbers\n",
    "\n",
    "A random seed is a number (or vector) used to initialize a pseudorandom number generator.\n",
    "<br>\n",
    "For a seed to be used in a pseudorandom number generator, it does not need to be random. Because of the nature of number generating algorithms, so long as the original seed is ignored, the rest of the values that the algorithm generates will follow probability distribution in a pseudorandom manner."
   ]
  },
  {
   "cell_type": "markdown",
   "metadata": {},
   "source": [
    "## References\n",
    "\n",
    "[1] https://docs.scipy.org/doc/numpy/\n",
    "<br>\n",
    "[2] http://www.numpy.org/\n",
    "<br>\n",
    "[3] https://docs.scipy.org/doc/numpy-1.15.1/reference/routines.random.html#\n",
    "<br>\n",
    "[4] https://en.wikipedia.org/wiki/NumPy"
   ]
  },
  {
   "cell_type": "code",
   "execution_count": null,
   "metadata": {},
   "outputs": [],
   "source": []
  }
 ],
 "metadata": {
  "kernelspec": {
   "display_name": "Python 3",
   "language": "python",
   "name": "python3"
  },
  "language_info": {
   "codemirror_mode": {
    "name": "ipython",
    "version": 3
   },
   "file_extension": ".py",
   "mimetype": "text/x-python",
   "name": "python",
   "nbconvert_exporter": "python",
   "pygments_lexer": "ipython3",
   "version": "3.6.4"
  }
 },
 "nbformat": 4,
 "nbformat_minor": 2
}
